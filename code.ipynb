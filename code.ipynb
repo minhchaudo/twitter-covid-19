{
 "cells": [
  {
   "cell_type": "markdown",
   "metadata": {},
   "source": [
    "# Twitter COVID-19 data analysis "
   ]
  },
  {
   "cell_type": "markdown",
   "metadata": {},
   "source": [
    "## Data preprocessing"
   ]
  },
  {
   "cell_type": "markdown",
   "metadata": {},
   "source": [
    "Our preprocessing steps include:\n",
    "- Dropping redundant columns\n",
    "- Dropping columns that contain too many missing values\n",
    "- Dropping all rows that contain missing values \n",
    "- Dropping all duplicated rows\n",
    "- Removing all hyperlinks, mentions, hashtags, newline characters, non-text characters, and trailing space from the tweets and converting them to lowercase. \n",
    "- Converting the \"createdAt\" column containing timestamps from object datatype to pandas datetime datatype\n",
    "- Assigning new IDs to tweets"
   ]
  },
  {
   "cell_type": "code",
   "execution_count": 2,
   "metadata": {},
   "outputs": [],
   "source": [
    "import pandas as pd\n",
    "import numpy as np\n",
    "import matplotlib.pyplot as plt\n",
    "import seaborn as sns\n",
    "import seaborn.objects as so\n",
    "import string\n",
    "import re\n",
    "from textblob import TextBlob\n",
    "from collections import Counter\n",
    "import liwc"
   ]
  },
  {
   "cell_type": "code",
   "execution_count": 3,
   "metadata": {},
   "outputs": [
    {
     "name": "stderr",
     "output_type": "stream",
     "text": [
      "C:\\Users\\dunga\\AppData\\Local\\Temp\\ipykernel_2812\\1856666418.py:1: DtypeWarning: Columns (13) have mixed types. Specify dtype option on import or set low_memory=False.\n",
      "  df = pd.read_csv(\"TweetsAboutCovid-19.csv\")\n"
     ]
    },
    {
     "data": {
      "text/html": [
       "<div>\n",
       "<style scoped>\n",
       "    .dataframe tbody tr th:only-of-type {\n",
       "        vertical-align: middle;\n",
       "    }\n",
       "\n",
       "    .dataframe tbody tr th {\n",
       "        vertical-align: top;\n",
       "    }\n",
       "\n",
       "    .dataframe thead th {\n",
       "        text-align: right;\n",
       "    }\n",
       "</style>\n",
       "<table border=\"1\" class=\"dataframe\">\n",
       "  <thead>\n",
       "    <tr style=\"text-align: right;\">\n",
       "      <th></th>\n",
       "      <th>id</th>\n",
       "      <th>created_at</th>\n",
       "      <th>date</th>\n",
       "      <th>time</th>\n",
       "      <th>timezone</th>\n",
       "      <th>place</th>\n",
       "      <th>tweet</th>\n",
       "      <th>language</th>\n",
       "      <th>replies_count</th>\n",
       "      <th>retweets_count</th>\n",
       "      <th>likes_count</th>\n",
       "      <th>hashtags</th>\n",
       "      <th>cashtags</th>\n",
       "      <th>retweet</th>\n",
       "      <th>video</th>\n",
       "      <th>thumbnail</th>\n",
       "    </tr>\n",
       "  </thead>\n",
       "  <tbody>\n",
       "    <tr>\n",
       "      <th>0</th>\n",
       "      <td>1.385880e+18</td>\n",
       "      <td>2021-04-24 08:43:17 UTC</td>\n",
       "      <td>4/24/2021</td>\n",
       "      <td>8:43:17</td>\n",
       "      <td>0</td>\n",
       "      <td>NaN</td>\n",
       "      <td>🇨🇺: ✍️ Covid-19 en Cuba: 1241 nuevos casos pos...</td>\n",
       "      <td>es</td>\n",
       "      <td>0.0</td>\n",
       "      <td>0.0</td>\n",
       "      <td>0.0</td>\n",
       "      <td>['reportando', 'cuba']</td>\n",
       "      <td>[]</td>\n",
       "      <td>False</td>\n",
       "      <td>0.0</td>\n",
       "      <td>NaN</td>\n",
       "    </tr>\n",
       "    <tr>\n",
       "      <th>1</th>\n",
       "      <td>1.385880e+18</td>\n",
       "      <td>2021-04-24 08:43:17 UTC</td>\n",
       "      <td>4/24/2021</td>\n",
       "      <td>8:43:17</td>\n",
       "      <td>0</td>\n",
       "      <td>NaN</td>\n",
       "      <td>The latest The Zika Advice Paper!  https://t.c...</td>\n",
       "      <td>en</td>\n",
       "      <td>0.0</td>\n",
       "      <td>0.0</td>\n",
       "      <td>0.0</td>\n",
       "      <td>['covid19', 'amr']</td>\n",
       "      <td>[]</td>\n",
       "      <td>False</td>\n",
       "      <td>0.0</td>\n",
       "      <td>NaN</td>\n",
       "    </tr>\n",
       "    <tr>\n",
       "      <th>2</th>\n",
       "      <td>1.385880e+18</td>\n",
       "      <td>2021-04-24 08:43:16 UTC</td>\n",
       "      <td>4/24/2021</td>\n",
       "      <td>8:43:16</td>\n",
       "      <td>0</td>\n",
       "      <td>NaN</td>\n",
       "      <td>Tum karo toh mantra ..woh kare toh tantra ..ai...</td>\n",
       "      <td>tl</td>\n",
       "      <td>0.0</td>\n",
       "      <td>0.0</td>\n",
       "      <td>0.0</td>\n",
       "      <td>['covidindia', 'covidvaccine', 'covidresources...</td>\n",
       "      <td>[]</td>\n",
       "      <td>False</td>\n",
       "      <td>1.0</td>\n",
       "      <td>https://pbs.twimg.com/media/EzufwnkUYA0TExx.jpg</td>\n",
       "    </tr>\n",
       "    <tr>\n",
       "      <th>3</th>\n",
       "      <td>1.385880e+18</td>\n",
       "      <td>2021-04-24 08:43:16 UTC</td>\n",
       "      <td>4/24/2021</td>\n",
       "      <td>8:43:16</td>\n",
       "      <td>0</td>\n",
       "      <td>NaN</td>\n",
       "      <td>https://t.co/4rdhSH3IYl  Prime Minister @Nare...</td>\n",
       "      <td>en</td>\n",
       "      <td>0.0</td>\n",
       "      <td>0.0</td>\n",
       "      <td>0.0</td>\n",
       "      <td>['covid_19']</td>\n",
       "      <td>[]</td>\n",
       "      <td>False</td>\n",
       "      <td>1.0</td>\n",
       "      <td>https://pbs.twimg.com/media/EzueSRxVgAEiTie.jpg</td>\n",
       "    </tr>\n",
       "    <tr>\n",
       "      <th>4</th>\n",
       "      <td>1.385880e+18</td>\n",
       "      <td>2021-04-24 08:43:16 UTC</td>\n",
       "      <td>4/24/2021</td>\n",
       "      <td>8:43:16</td>\n",
       "      <td>0</td>\n",
       "      <td>NaN</td>\n",
       "      <td>@bc_pt64 @KackCake @sherlockine1 @SternchenJvB...</td>\n",
       "      <td>de</td>\n",
       "      <td>0.0</td>\n",
       "      <td>0.0</td>\n",
       "      <td>0.0</td>\n",
       "      <td>[]</td>\n",
       "      <td>[]</td>\n",
       "      <td>False</td>\n",
       "      <td>0.0</td>\n",
       "      <td>NaN</td>\n",
       "    </tr>\n",
       "  </tbody>\n",
       "</table>\n",
       "</div>"
      ],
      "text/plain": [
       "             id               created_at       date     time  timezone place  \\\n",
       "0  1.385880e+18  2021-04-24 08:43:17 UTC  4/24/2021  8:43:17         0   NaN   \n",
       "1  1.385880e+18  2021-04-24 08:43:17 UTC  4/24/2021  8:43:17         0   NaN   \n",
       "2  1.385880e+18  2021-04-24 08:43:16 UTC  4/24/2021  8:43:16         0   NaN   \n",
       "3  1.385880e+18  2021-04-24 08:43:16 UTC  4/24/2021  8:43:16         0   NaN   \n",
       "4  1.385880e+18  2021-04-24 08:43:16 UTC  4/24/2021  8:43:16         0   NaN   \n",
       "\n",
       "                                               tweet language  replies_count  \\\n",
       "0  🇨🇺: ✍️ Covid-19 en Cuba: 1241 nuevos casos pos...       es            0.0   \n",
       "1  The latest The Zika Advice Paper!  https://t.c...       en            0.0   \n",
       "2  Tum karo toh mantra ..woh kare toh tantra ..ai...       tl            0.0   \n",
       "3   https://t.co/4rdhSH3IYl  Prime Minister @Nare...       en            0.0   \n",
       "4  @bc_pt64 @KackCake @sherlockine1 @SternchenJvB...       de            0.0   \n",
       "\n",
       "   retweets_count  likes_count  \\\n",
       "0             0.0          0.0   \n",
       "1             0.0          0.0   \n",
       "2             0.0          0.0   \n",
       "3             0.0          0.0   \n",
       "4             0.0          0.0   \n",
       "\n",
       "                                            hashtags cashtags retweet  video  \\\n",
       "0                             ['reportando', 'cuba']       []   False    0.0   \n",
       "1                                 ['covid19', 'amr']       []   False    0.0   \n",
       "2  ['covidindia', 'covidvaccine', 'covidresources...       []   False    1.0   \n",
       "3                                       ['covid_19']       []   False    1.0   \n",
       "4                                                 []       []   False    0.0   \n",
       "\n",
       "                                         thumbnail  \n",
       "0                                              NaN  \n",
       "1                                              NaN  \n",
       "2  https://pbs.twimg.com/media/EzufwnkUYA0TExx.jpg  \n",
       "3  https://pbs.twimg.com/media/EzueSRxVgAEiTie.jpg  \n",
       "4                                              NaN  "
      ]
     },
     "execution_count": 3,
     "metadata": {},
     "output_type": "execute_result"
    }
   ],
   "source": [
    "df = pd.read_csv(\"TweetsAboutCovid-19.csv\")\n",
    "df.head()"
   ]
  },
  {
   "cell_type": "code",
   "execution_count": 4,
   "metadata": {},
   "outputs": [
    {
     "name": "stdout",
     "output_type": "stream",
     "text": [
      "<class 'pandas.core.frame.DataFrame'>\n",
      "RangeIndex: 803645 entries, 0 to 803644\n",
      "Data columns (total 16 columns):\n",
      " #   Column          Non-Null Count   Dtype  \n",
      "---  ------          --------------   -----  \n",
      " 0   id              803645 non-null  float64\n",
      " 1   created_at      803645 non-null  object \n",
      " 2   date            803645 non-null  object \n",
      " 3   time            803645 non-null  object \n",
      " 4   timezone        803645 non-null  int64  \n",
      " 5   place           880 non-null     object \n",
      " 6   tweet           803645 non-null  object \n",
      " 7   language        803644 non-null  object \n",
      " 8   replies_count   803644 non-null  float64\n",
      " 9   retweets_count  803644 non-null  float64\n",
      " 10  likes_count     803644 non-null  float64\n",
      " 11  hashtags        803644 non-null  object \n",
      " 12  cashtags        803644 non-null  object \n",
      " 13  retweet         803644 non-null  object \n",
      " 14  video           803644 non-null  float64\n",
      " 15  thumbnail       232981 non-null  object \n",
      "dtypes: float64(5), int64(1), object(10)\n",
      "memory usage: 98.1+ MB\n"
     ]
    }
   ],
   "source": [
    "df.info()"
   ]
  },
  {
   "cell_type": "markdown",
   "metadata": {},
   "source": [
    "Columns \"place\" and \"thumbnail\" have too many NA values, while other columns only have a few NA values. We'll drop columns \"place\" and \"thumbnail\" and proceed to drop all rows that contain any missing data."
   ]
  },
  {
   "cell_type": "code",
   "execution_count": 5,
   "metadata": {},
   "outputs": [],
   "source": [
    "df.drop(columns=[\"place\", \"thumbnail\"], inplace=True)"
   ]
  },
  {
   "cell_type": "code",
   "execution_count": 6,
   "metadata": {},
   "outputs": [
    {
     "data": {
      "text/plain": [
       "id                   117\n",
       "created_at        251871\n",
       "date                   4\n",
       "time               86329\n",
       "timezone               1\n",
       "tweet             780154\n",
       "language              64\n",
       "replies_count        428\n",
       "retweets_count      1094\n",
       "likes_count         1918\n",
       "hashtags          174467\n",
       "cashtags             579\n",
       "retweet                1\n",
       "video                  2\n",
       "dtype: int64"
      ]
     },
     "execution_count": 6,
     "metadata": {},
     "output_type": "execute_result"
    }
   ],
   "source": [
    "df.nunique()"
   ]
  },
  {
   "cell_type": "markdown",
   "metadata": {},
   "source": [
    "Columns \"retweet\" and \"timezone\" only have 1 unique value. Column \"id\" only have 117 unique values, but each observation in the dataframe should have a unique ID.\n",
    "\n",
    "We'll drop columns \"timezone\" and \"retweet\" and investigate the \"id\" column. "
   ]
  },
  {
   "cell_type": "code",
   "execution_count": 7,
   "metadata": {},
   "outputs": [],
   "source": [
    "df.drop(columns=[\"timezone\", \"retweet\"], inplace=True)"
   ]
  },
  {
   "cell_type": "code",
   "execution_count": 8,
   "metadata": {},
   "outputs": [],
   "source": [
    "df.dropna(inplace=True)"
   ]
  },
  {
   "cell_type": "code",
   "execution_count": 9,
   "metadata": {},
   "outputs": [
    {
     "data": {
      "text/plain": [
       "0    1.385880e+18\n",
       "1    1.385880e+18\n",
       "2    1.385880e+18\n",
       "3    1.385880e+18\n",
       "4    1.385880e+18\n",
       "Name: id, dtype: float64"
      ]
     },
     "execution_count": 9,
     "metadata": {},
     "output_type": "execute_result"
    }
   ],
   "source": [
    "df[\"id\"].head()"
   ]
  },
  {
   "cell_type": "code",
   "execution_count": 10,
   "metadata": {},
   "outputs": [
    {
     "data": {
      "text/plain": [
       "dtype('float64')"
      ]
     },
     "execution_count": 10,
     "metadata": {},
     "output_type": "execute_result"
    }
   ],
   "source": [
    "df[\"id\"].dtype"
   ]
  },
  {
   "cell_type": "markdown",
   "metadata": {},
   "source": [
    "Notice that the \"id\" column contains very few unique values compared to the number of posts we have. Furthermore, they are all floats, which is unreasonable for IDs. This might be due to a problem during dataset construction - the ID column might have been automatically converted to numbers (floats) even though they are supposed to be interpreted as strings. We'll discard the old IDs and use the current index of each tweet as its ID. There shouldn't be any problem as long as the IDs are unique for each tweet. "
   ]
  },
  {
   "cell_type": "code",
   "execution_count": 11,
   "metadata": {},
   "outputs": [],
   "source": [
    "df[\"id\"] = range(len(df))"
   ]
  },
  {
   "cell_type": "markdown",
   "metadata": {},
   "source": [
    "Let's drop all duplicated rows."
   ]
  },
  {
   "cell_type": "code",
   "execution_count": 12,
   "metadata": {},
   "outputs": [],
   "source": [
    "df.drop_duplicates(inplace=True)"
   ]
  },
  {
   "cell_type": "markdown",
   "metadata": {},
   "source": [
    "Let's clean the tweets."
   ]
  },
  {
   "cell_type": "code",
   "execution_count": 13,
   "metadata": {},
   "outputs": [],
   "source": [
    "def pre_processing(text):\n",
    "    # Remove hyperlinks from the tweet\n",
    "    text = re.sub(r'https?:\\/\\/\\S+', '', text)\n",
    "    \n",
    "    # Remove @mentions, which are specific to Twitter posts\n",
    "    text = re.sub(r'@[A-Za-z0-9]+', '', text)\n",
    "\n",
    "    # Remove #hashtags, which are specific to Twitter posts\n",
    "    text = re.sub(r'#[A-Za-z0-9]+', '', text)\n",
    "    \n",
    "    # Remove newline escape sequences (like \\n) from the tweet\n",
    "    # to ensure the tweet text doesn't contain any line breaks\n",
    "    text = re.sub(r'\\n','', text) \n",
    "\n",
    "    # Keep only letters and numbers. \n",
    "    # All other characters are replaced with a space.\n",
    "    text = re.sub(r\"[^A-Za-z0-9#]+\", ' ', text)\n",
    "    \n",
    "    # Remove any extra spaces between words and any trailing or leading spaces\n",
    "    text = re.sub(r'\\s+', ' ', text).strip().lower()\n",
    "    \n",
    "    return text\n",
    "\n",
    "df['clean_tweet'] = df['tweet'].apply(pre_processing)"
   ]
  },
  {
   "cell_type": "markdown",
   "metadata": {},
   "source": [
    "Let's convert the \"created_at\" timestamps into pandas datetime datatype."
   ]
  },
  {
   "cell_type": "code",
   "execution_count": 14,
   "metadata": {},
   "outputs": [],
   "source": [
    "df[\"created_at\"] = pd.to_datetime(df[\"created_at\"])"
   ]
  },
  {
   "cell_type": "code",
   "execution_count": 15,
   "metadata": {},
   "outputs": [],
   "source": [
    "df.reset_index(inplace=True, drop=True)"
   ]
  },
  {
   "cell_type": "markdown",
   "metadata": {},
   "source": [
    "## Exploratory Data Analysis"
   ]
  },
  {
   "cell_type": "markdown",
   "metadata": {},
   "source": [
    "Let's explore the most popular languages of the tweets."
   ]
  },
  {
   "cell_type": "code",
   "execution_count": 16,
   "metadata": {},
   "outputs": [
    {
     "data": {
      "text/html": [
       "<div>\n",
       "<style scoped>\n",
       "    .dataframe tbody tr th:only-of-type {\n",
       "        vertical-align: middle;\n",
       "    }\n",
       "\n",
       "    .dataframe tbody tr th {\n",
       "        vertical-align: top;\n",
       "    }\n",
       "\n",
       "    .dataframe thead th {\n",
       "        text-align: right;\n",
       "    }\n",
       "</style>\n",
       "<table border=\"1\" class=\"dataframe\">\n",
       "  <thead>\n",
       "    <tr style=\"text-align: right;\">\n",
       "      <th></th>\n",
       "      <th>language</th>\n",
       "      <th>count</th>\n",
       "    </tr>\n",
       "  </thead>\n",
       "  <tbody>\n",
       "    <tr>\n",
       "      <th>12</th>\n",
       "      <td>en</td>\n",
       "      <td>412115</td>\n",
       "    </tr>\n",
       "    <tr>\n",
       "      <th>13</th>\n",
       "      <td>es</td>\n",
       "      <td>131519</td>\n",
       "    </tr>\n",
       "    <tr>\n",
       "      <th>24</th>\n",
       "      <td>in</td>\n",
       "      <td>40841</td>\n",
       "    </tr>\n",
       "    <tr>\n",
       "      <th>46</th>\n",
       "      <td>pt</td>\n",
       "      <td>33253</td>\n",
       "    </tr>\n",
       "    <tr>\n",
       "      <th>20</th>\n",
       "      <td>hi</td>\n",
       "      <td>28140</td>\n",
       "    </tr>\n",
       "    <tr>\n",
       "      <th>18</th>\n",
       "      <td>fr</td>\n",
       "      <td>26546</td>\n",
       "    </tr>\n",
       "    <tr>\n",
       "      <th>9</th>\n",
       "      <td>de</td>\n",
       "      <td>22139</td>\n",
       "    </tr>\n",
       "    <tr>\n",
       "      <th>60</th>\n",
       "      <td>und</td>\n",
       "      <td>19622</td>\n",
       "    </tr>\n",
       "    <tr>\n",
       "      <th>28</th>\n",
       "      <td>ja</td>\n",
       "      <td>17672</td>\n",
       "    </tr>\n",
       "    <tr>\n",
       "      <th>58</th>\n",
       "      <td>tr</td>\n",
       "      <td>11376</td>\n",
       "    </tr>\n",
       "  </tbody>\n",
       "</table>\n",
       "</div>"
      ],
      "text/plain": [
       "   language   count\n",
       "12       en  412115\n",
       "13       es  131519\n",
       "24       in   40841\n",
       "46       pt   33253\n",
       "20       hi   28140\n",
       "18       fr   26546\n",
       "9        de   22139\n",
       "60      und   19622\n",
       "28       ja   17672\n",
       "58       tr   11376"
      ]
     },
     "execution_count": 16,
     "metadata": {},
     "output_type": "execute_result"
    }
   ],
   "source": [
    "# group by language and counting\n",
    "n_tweets_by_lang = df.groupby(\"language\").count()[\"id\"].reset_index()\n",
    "n_tweets_by_lang.columns = [\"language\", \"count\"]\n",
    "n_tweets_by_lang.sort_values(\"count\", ascending=False)[:10]"
   ]
  },
  {
   "cell_type": "code",
   "execution_count": 17,
   "metadata": {},
   "outputs": [
    {
     "data": {
      "text/plain": [
       "<Axes: xlabel='language', ylabel='count'>"
      ]
     },
     "execution_count": 17,
     "metadata": {},
     "output_type": "execute_result"
    },
    {
     "data": {
      "image/png": "[encoded data removed]",
      "text/plain": [
       "<Figure size 640x480 with 1 Axes>"
      ]
     },
     "metadata": {},
     "output_type": "display_data"
    }
   ],
   "source": [
    "# plotting top 10 most common languages and their tweet counts\n",
    "sns.barplot(n_tweets_by_lang.sort_values(\"count\", ascending=False)[:10], x=\"language\", y=\"count\")"
   ]
  },
  {
   "cell_type": "markdown",
   "metadata": {},
   "source": [
    "We'll next explore the distribution of the word count of the tweets."
   ]
  },
  {
   "cell_type": "code",
   "execution_count": 18,
   "metadata": {},
   "outputs": [
    {
     "data": {
      "text/plain": [
       "<seaborn.axisgrid.FacetGrid at 0x1d893a34ce0>"
      ]
     },
     "execution_count": 18,
     "metadata": {},
     "output_type": "execute_result"
    },
    {
     "data": {
      "image/png": "[encoded data removed]",
      "text/plain": [
       "<Figure size 500x500 with 1 Axes>"
      ]
     },
     "metadata": {},
     "output_type": "display_data"
    }
   ],
   "source": [
    "# calculating word counts of clean tweets and plotting the distribution\n",
    "df[\"word_count\"] = df[\"clean_tweet\"].apply(lambda x: len(x.split()))\n",
    "sns.displot(df[\"word_count\"])"
   ]
  },
  {
   "cell_type": "markdown",
   "metadata": {},
   "source": [
    "## Post activity by hour"
   ]
  },
  {
   "cell_type": "markdown",
   "metadata": {},
   "source": [
    "In this section, we explore how the post activity changes on a hourly basis throughout the study period. We first aggregated the tweets count by date-hour, aggregated the tweets count by hour, and calculated the proportion of tweets count per hour.  "
   ]
  },
  {
   "cell_type": "code",
   "execution_count": 19,
   "metadata": {},
   "outputs": [
    {
     "data": {
      "text/plain": [
       "array(['4/24/2021', '4/23/2021', '4/22/2021', '4/21/2021'], dtype=object)"
      ]
     },
     "execution_count": 19,
     "metadata": {},
     "output_type": "execute_result"
    }
   ],
   "source": [
    "df[\"date\"].unique()"
   ]
  },
  {
   "cell_type": "code",
   "execution_count": 20,
   "metadata": {},
   "outputs": [
    {
     "data": {
      "text/html": [
       "<div>\n",
       "<style scoped>\n",
       "    .dataframe tbody tr th:only-of-type {\n",
       "        vertical-align: middle;\n",
       "    }\n",
       "\n",
       "    .dataframe tbody tr th {\n",
       "        vertical-align: top;\n",
       "    }\n",
       "\n",
       "    .dataframe thead th {\n",
       "        text-align: right;\n",
       "    }\n",
       "</style>\n",
       "<table border=\"1\" class=\"dataframe\">\n",
       "  <thead>\n",
       "    <tr style=\"text-align: right;\">\n",
       "      <th></th>\n",
       "      <th>date</th>\n",
       "      <th>hour</th>\n",
       "      <th>count</th>\n",
       "      <th>date-time</th>\n",
       "    </tr>\n",
       "  </thead>\n",
       "  <tbody>\n",
       "    <tr>\n",
       "      <th>0</th>\n",
       "      <td>4/21/2021</td>\n",
       "      <td>4</td>\n",
       "      <td>4807</td>\n",
       "      <td>2021-04-21 04:00:00</td>\n",
       "    </tr>\n",
       "    <tr>\n",
       "      <th>1</th>\n",
       "      <td>4/21/2021</td>\n",
       "      <td>5</td>\n",
       "      <td>7016</td>\n",
       "      <td>2021-04-21 05:00:00</td>\n",
       "    </tr>\n",
       "    <tr>\n",
       "      <th>2</th>\n",
       "      <td>4/21/2021</td>\n",
       "      <td>6</td>\n",
       "      <td>7559</td>\n",
       "      <td>2021-04-21 06:00:00</td>\n",
       "    </tr>\n",
       "    <tr>\n",
       "      <th>3</th>\n",
       "      <td>4/21/2021</td>\n",
       "      <td>7</td>\n",
       "      <td>9419</td>\n",
       "      <td>2021-04-21 07:00:00</td>\n",
       "    </tr>\n",
       "    <tr>\n",
       "      <th>4</th>\n",
       "      <td>4/21/2021</td>\n",
       "      <td>8</td>\n",
       "      <td>8158</td>\n",
       "      <td>2021-04-21 08:00:00</td>\n",
       "    </tr>\n",
       "  </tbody>\n",
       "</table>\n",
       "</div>"
      ],
      "text/plain": [
       "        date  hour  count           date-time\n",
       "0  4/21/2021     4   4807 2021-04-21 04:00:00\n",
       "1  4/21/2021     5   7016 2021-04-21 05:00:00\n",
       "2  4/21/2021     6   7559 2021-04-21 06:00:00\n",
       "3  4/21/2021     7   9419 2021-04-21 07:00:00\n",
       "4  4/21/2021     8   8158 2021-04-21 08:00:00"
      ]
     },
     "execution_count": 20,
     "metadata": {},
     "output_type": "execute_result"
    }
   ],
   "source": [
    "# group by date and hour and count the number of tweets\n",
    "df[\"hour\"] = df[\"created_at\"].apply(lambda x: x.hour)\n",
    "n_tweets_date_hour = df.groupby([\"date\", \"hour\"]).count()[\"id\"].reset_index()\n",
    "n_tweets_date_hour.columns = [\"date\", \"hour\", \"count\"]\n",
    "n_tweets_date_hour[\"date-time\"] = pd.to_datetime(n_tweets_date_hour[\"date\"] + \" \" + n_tweets_date_hour[\"hour\"].astype(str) + \":00\")\n",
    "n_tweets_date_hour.head()"
   ]
  },
  {
   "cell_type": "code",
   "execution_count": 21,
   "metadata": {},
   "outputs": [
    {
     "data": {
      "text/plain": [
       "<Axes: xlabel='date-time', ylabel='count'>"
      ]
     },
     "execution_count": 21,
     "metadata": {},
     "output_type": "execute_result"
    },
    {
     "data": {
      "image/png": "[encoded data removed]",
      "text/plain": [
       "<Figure size 640x480 with 1 Axes>"
      ]
     },
     "metadata": {},
     "output_type": "display_data"
    }
   ],
   "source": [
    "# plotting the number of tweets per hour throughout the study period (4 days)\n",
    "sns.lineplot(n_tweets_date_hour, x=\"date-time\", y=\"count\")"
   ]
  },
  {
   "cell_type": "code",
   "execution_count": 41,
   "metadata": {},
   "outputs": [
    {
     "data": {
      "text/html": [
       "<div>\n",
       "<style scoped>\n",
       "    .dataframe tbody tr th:only-of-type {\n",
       "        vertical-align: middle;\n",
       "    }\n",
       "\n",
       "    .dataframe tbody tr th {\n",
       "        vertical-align: top;\n",
       "    }\n",
       "\n",
       "    .dataframe thead th {\n",
       "        text-align: right;\n",
       "    }\n",
       "</style>\n",
       "<table border=\"1\" class=\"dataframe\">\n",
       "  <thead>\n",
       "    <tr style=\"text-align: right;\">\n",
       "      <th></th>\n",
       "      <th>hour</th>\n",
       "      <th>count</th>\n",
       "      <th>prop</th>\n",
       "    </tr>\n",
       "  </thead>\n",
       "  <tbody>\n",
       "    <tr>\n",
       "      <th>0</th>\n",
       "      <td>0</td>\n",
       "      <td>23500</td>\n",
       "      <td>0.029242</td>\n",
       "    </tr>\n",
       "    <tr>\n",
       "      <th>1</th>\n",
       "      <td>1</td>\n",
       "      <td>23513</td>\n",
       "      <td>0.029258</td>\n",
       "    </tr>\n",
       "    <tr>\n",
       "      <th>2</th>\n",
       "      <td>2</td>\n",
       "      <td>24117</td>\n",
       "      <td>0.030010</td>\n",
       "    </tr>\n",
       "    <tr>\n",
       "      <th>3</th>\n",
       "      <td>3</td>\n",
       "      <td>23673</td>\n",
       "      <td>0.029457</td>\n",
       "    </tr>\n",
       "    <tr>\n",
       "      <th>4</th>\n",
       "      <td>4</td>\n",
       "      <td>31940</td>\n",
       "      <td>0.039744</td>\n",
       "    </tr>\n",
       "  </tbody>\n",
       "</table>\n",
       "</div>"
      ],
      "text/plain": [
       "   hour  count      prop\n",
       "0     0  23500  0.029242\n",
       "1     1  23513  0.029258\n",
       "2     2  24117  0.030010\n",
       "3     3  23673  0.029457\n",
       "4     4  31940  0.039744"
      ]
     },
     "execution_count": 41,
     "metadata": {},
     "output_type": "execute_result"
    }
   ],
   "source": [
    "# group by hour and calculating the proportion of tweets each hour\n",
    "n_tweets_hour = n_tweets_date_hour.groupby(\"hour\")[\"count\"].sum().reset_index()\n",
    "n_tweets_hour[\"prop\"] = n_tweets_hour[\"count\"]/sum(n_tweets_hour[\"count\"])\n",
    "n_tweets_hour.head()"
   ]
  },
  {
   "cell_type": "code",
   "execution_count": 42,
   "metadata": {},
   "outputs": [
    {
     "data": {
      "text/plain": [
       "<Axes: xlabel='hour', ylabel='prop'>"
      ]
     },
     "execution_count": 42,
     "metadata": {},
     "output_type": "execute_result"
    },
    {
     "data": {
      "image/png": "[encoded data removed]",
      "text/plain": [
       "<Figure size 640x480 with 1 Axes>"
      ]
     },
     "metadata": {},
     "output_type": "display_data"
    }
   ],
   "source": [
    "sns.lineplot(n_tweets_hour, x=\"hour\", y=\"prop\")"
   ]
  },
  {
   "cell_type": "markdown",
   "metadata": {},
   "source": [
    "We can see a clear seasonal pattern in the time series data with a period of one day."
   ]
  },
  {
   "cell_type": "markdown",
   "metadata": {},
   "source": [
    "## Text frequency analysis"
   ]
  },
  {
   "cell_type": "markdown",
   "metadata": {},
   "source": [
    "We'll first explore the most commonly used hashtags. We'll remove all punctuations from the hashtags and count the number of each hashtag."
   ]
  },
  {
   "cell_type": "code",
   "execution_count": 24,
   "metadata": {},
   "outputs": [
    {
     "data": {
      "text/html": [
       "<div>\n",
       "<style scoped>\n",
       "    .dataframe tbody tr th:only-of-type {\n",
       "        vertical-align: middle;\n",
       "    }\n",
       "\n",
       "    .dataframe tbody tr th {\n",
       "        vertical-align: top;\n",
       "    }\n",
       "\n",
       "    .dataframe thead th {\n",
       "        text-align: right;\n",
       "    }\n",
       "</style>\n",
       "<table border=\"1\" class=\"dataframe\">\n",
       "  <thead>\n",
       "    <tr style=\"text-align: right;\">\n",
       "      <th></th>\n",
       "      <th>hashtag</th>\n",
       "      <th>count</th>\n",
       "    </tr>\n",
       "  </thead>\n",
       "  <tbody>\n",
       "    <tr>\n",
       "      <th>2</th>\n",
       "      <td>covid19</td>\n",
       "      <td>241301</td>\n",
       "    </tr>\n",
       "    <tr>\n",
       "      <th>36</th>\n",
       "      <td>coronavirus</td>\n",
       "      <td>25731</td>\n",
       "    </tr>\n",
       "    <tr>\n",
       "      <th>21</th>\n",
       "      <td>covid</td>\n",
       "      <td>15460</td>\n",
       "    </tr>\n",
       "    <tr>\n",
       "      <th>20</th>\n",
       "      <td>corona</td>\n",
       "      <td>10338</td>\n",
       "    </tr>\n",
       "    <tr>\n",
       "      <th>7</th>\n",
       "      <td>covidemergency2021</td>\n",
       "      <td>10308</td>\n",
       "    </tr>\n",
       "    <tr>\n",
       "      <th>13</th>\n",
       "      <td>india</td>\n",
       "      <td>7925</td>\n",
       "    </tr>\n",
       "    <tr>\n",
       "      <th>149</th>\n",
       "      <td>covid19india</td>\n",
       "      <td>7365</td>\n",
       "    </tr>\n",
       "    <tr>\n",
       "      <th>4</th>\n",
       "      <td>covidindia</td>\n",
       "      <td>7028</td>\n",
       "    </tr>\n",
       "    <tr>\n",
       "      <th>8</th>\n",
       "      <td>vaccine</td>\n",
       "      <td>6181</td>\n",
       "    </tr>\n",
       "    <tr>\n",
       "      <th>34</th>\n",
       "      <td>coronaviruspandemic</td>\n",
       "      <td>5423</td>\n",
       "    </tr>\n",
       "    <tr>\n",
       "      <th>294</th>\n",
       "      <td>oxygen</td>\n",
       "      <td>4491</td>\n",
       "    </tr>\n",
       "    <tr>\n",
       "      <th>8023</th>\n",
       "      <td>lindungikeluargatercinta</td>\n",
       "      <td>4206</td>\n",
       "    </tr>\n",
       "    <tr>\n",
       "      <th>433</th>\n",
       "      <td>pandemic</td>\n",
       "      <td>3858</td>\n",
       "    </tr>\n",
       "    <tr>\n",
       "      <th>100</th>\n",
       "      <td>lockdown</td>\n",
       "      <td>3834</td>\n",
       "    </tr>\n",
       "    <tr>\n",
       "      <th>159</th>\n",
       "      <td>delhi</td>\n",
       "      <td>3513</td>\n",
       "    </tr>\n",
       "  </tbody>\n",
       "</table>\n",
       "</div>"
      ],
      "text/plain": [
       "                       hashtag   count\n",
       "2                      covid19  241301\n",
       "36                 coronavirus   25731\n",
       "21                       covid   15460\n",
       "20                      corona   10338\n",
       "7           covidemergency2021   10308\n",
       "13                       india    7925\n",
       "149               covid19india    7365\n",
       "4                   covidindia    7028\n",
       "8                      vaccine    6181\n",
       "34         coronaviruspandemic    5423\n",
       "294                     oxygen    4491\n",
       "8023  lindungikeluargatercinta    4206\n",
       "433                   pandemic    3858\n",
       "100                   lockdown    3834\n",
       "159                      delhi    3513"
      ]
     },
     "execution_count": 24,
     "metadata": {},
     "output_type": "execute_result"
    }
   ],
   "source": [
    "# remove punctuations from hashtags\n",
    "translator = str.maketrans(\"\", \"\", string.punctuation)\n",
    "df[\"hashtags\"] = df[\"hashtags\"].apply(lambda x: x.translate(translator).strip().lower().split())\n",
    "all_hashtags = {}\n",
    "# count the number of occurrences of each hashtag\n",
    "for i in range(len(df)):\n",
    "    tags = df[\"hashtags\"][i]\n",
    "    for tag in tags:\n",
    "        if tag in all_hashtags:\n",
    "            all_hashtags[tag] += 1\n",
    "        else:\n",
    "            all_hashtags[tag] = 1\n",
    "hashtag_df = pd.DataFrame.from_dict(all_hashtags, orient=\"index\").reset_index()\n",
    "hashtag_df.columns = [\"hashtag\", \"count\"]\n",
    "# sorting the counts\n",
    "hashtag_df.sort_values(\"count\", ascending=False)[:15]"
   ]
  },
  {
   "cell_type": "code",
   "execution_count": 25,
   "metadata": {},
   "outputs": [
    {
     "name": "stderr",
     "output_type": "stream",
     "text": [
      "C:\\Users\\dunga\\AppData\\Local\\Temp\\ipykernel_2812\\391769964.py:2: UserWarning: set_ticklabels() should only be used with a fixed number of ticks, i.e. after set_ticks() or using a FixedLocator.\n",
      "  plot.set_xticklabels(plot.get_xticklabels(), rotation=45,\n"
     ]
    },
    {
     "data": {
      "text/plain": [
       "<Axes: xlabel='hashtag', ylabel='count'>"
      ]
     },
     "execution_count": 25,
     "metadata": {},
     "output_type": "execute_result"
    },
    {
     "data": {
      "image/png": "[encoded data removed]",
      "text/plain": [
       "<Figure size 640x480 with 1 Axes>"
      ]
     },
     "metadata": {},
     "output_type": "display_data"
    }
   ],
   "source": [
    "# plotting the counts of 15 most common hashtags\n",
    "plot = sns.barplot(hashtag_df.sort_values(\"count\", ascending=False)[:15], x=\"hashtag\", y=\"count\")\n",
    "plot.set_xticklabels(plot.get_xticklabels(), rotation=45,\n",
    "                        horizontalalignment='right')\n",
    "plot"
   ]
  },
  {
   "cell_type": "markdown",
   "metadata": {},
   "source": [
    "Next, we'll explore the most common words in English tweets. To do this, we tokenized (split on space) each clean_tweet to obtain a list of words, removed the stop words, lemmatized each word, and then counted the number of occurrences of each word."
   ]
  },
  {
   "cell_type": "code",
   "execution_count": 26,
   "metadata": {},
   "outputs": [
    {
     "name": "stderr",
     "output_type": "stream",
     "text": [
      "[nltk_data] Error loading punkt: <urlopen error [SSL:\n",
      "[nltk_data]     WRONG_VERSION_NUMBER] wrong version number\n",
      "[nltk_data]     (_ssl.c:1000)>\n",
      "[nltk_data] Error loading stopwords: <urlopen error [SSL:\n",
      "[nltk_data]     WRONG_VERSION_NUMBER] wrong version number\n",
      "[nltk_data]     (_ssl.c:1000)>\n",
      "[nltk_data] Error loading wordnet: <urlopen error [SSL:\n",
      "[nltk_data]     WRONG_VERSION_NUMBER] wrong version number\n",
      "[nltk_data]     (_ssl.c:1000)>\n"
     ]
    },
    {
     "data": {
      "text/plain": [
       "False"
      ]
     },
     "execution_count": 26,
     "metadata": {},
     "output_type": "execute_result"
    }
   ],
   "source": [
    "import nltk\n",
    "from nltk.tokenize import word_tokenize\n",
    "from nltk.corpus import stopwords\n",
    "nltk.download('punkt') \n",
    "nltk.download('stopwords')\n",
    "nltk_stop_words = stopwords.words('english')\n",
    "from nltk.stem import WordNetLemmatizer\n",
    "nltk.download('wordnet')"
   ]
  },
  {
   "cell_type": "code",
   "execution_count": 27,
   "metadata": {},
   "outputs": [],
   "source": [
    "# filtered out non-english tweets, saving the english ones in a new df\n",
    "df_en_tweets = df[df[\"language\"] == \"en\"].copy()\n",
    "df_en_tweets.reset_index(drop=True, inplace=True)"
   ]
  },
  {
   "cell_type": "code",
   "execution_count": 28,
   "metadata": {},
   "outputs": [],
   "source": [
    "# tokenize\n",
    "df_en_tweets[\"tokenized_tweets\"] = df_en_tweets[\"clean_tweet\"].apply(lambda x: x.split())\n",
    "# remove stop words\n",
    "df_en_tweets[\"tokenized_rm_sw_tweets\"] = df_en_tweets[\"tokenized_tweets\"].apply(lambda x: [w for w in x if w not in nltk_stop_words])\n",
    "# lemmatize\n",
    "lemmatizer = WordNetLemmatizer()\n",
    "df_en_tweets[\"root\"] = df_en_tweets[\"tokenized_rm_sw_tweets\"].apply(lambda x: [lemmatizer.lemmatize(w) for w in x])"
   ]
  },
  {
   "cell_type": "code",
   "execution_count": 29,
   "metadata": {},
   "outputs": [
    {
     "data": {
      "text/html": [
       "<div>\n",
       "<style scoped>\n",
       "    .dataframe tbody tr th:only-of-type {\n",
       "        vertical-align: middle;\n",
       "    }\n",
       "\n",
       "    .dataframe tbody tr th {\n",
       "        vertical-align: top;\n",
       "    }\n",
       "\n",
       "    .dataframe thead th {\n",
       "        text-align: right;\n",
       "    }\n",
       "</style>\n",
       "<table border=\"1\" class=\"dataframe\">\n",
       "  <thead>\n",
       "    <tr style=\"text-align: right;\">\n",
       "      <th></th>\n",
       "      <th>id</th>\n",
       "      <th>created_at</th>\n",
       "      <th>date</th>\n",
       "      <th>time</th>\n",
       "      <th>tweet</th>\n",
       "      <th>language</th>\n",
       "      <th>replies_count</th>\n",
       "      <th>retweets_count</th>\n",
       "      <th>likes_count</th>\n",
       "      <th>hashtags</th>\n",
       "      <th>cashtags</th>\n",
       "      <th>video</th>\n",
       "      <th>clean_tweet</th>\n",
       "      <th>word_count</th>\n",
       "      <th>hour</th>\n",
       "      <th>tokenized_tweets</th>\n",
       "      <th>tokenized_rm_sw_tweets</th>\n",
       "      <th>root</th>\n",
       "    </tr>\n",
       "  </thead>\n",
       "  <tbody>\n",
       "    <tr>\n",
       "      <th>0</th>\n",
       "      <td>1</td>\n",
       "      <td>2021-04-24 08:43:17+00:00</td>\n",
       "      <td>4/24/2021</td>\n",
       "      <td>8:43:17</td>\n",
       "      <td>The latest The Zika Advice Paper!  https://t.c...</td>\n",
       "      <td>en</td>\n",
       "      <td>0.0</td>\n",
       "      <td>0.0</td>\n",
       "      <td>0.0</td>\n",
       "      <td>[covid19, amr]</td>\n",
       "      <td>[]</td>\n",
       "      <td>0.0</td>\n",
       "      <td>the latest the zika advice paper thanks to</td>\n",
       "      <td>8</td>\n",
       "      <td>8</td>\n",
       "      <td>[the, latest, the, zika, advice, paper, thanks...</td>\n",
       "      <td>[latest, zika, advice, paper, thanks]</td>\n",
       "      <td>[latest, zika, advice, paper, thanks]</td>\n",
       "    </tr>\n",
       "    <tr>\n",
       "      <th>1</th>\n",
       "      <td>3</td>\n",
       "      <td>2021-04-24 08:43:16+00:00</td>\n",
       "      <td>4/24/2021</td>\n",
       "      <td>8:43:16</td>\n",
       "      <td>https://t.co/4rdhSH3IYl  Prime Minister @Nare...</td>\n",
       "      <td>en</td>\n",
       "      <td>0.0</td>\n",
       "      <td>0.0</td>\n",
       "      <td>0.0</td>\n",
       "      <td>[covid19]</td>\n",
       "      <td>[]</td>\n",
       "      <td>1.0</td>\n",
       "      <td>prime minister on saturday said that like last...</td>\n",
       "      <td>23</td>\n",
       "      <td>8</td>\n",
       "      <td>[prime, minister, on, saturday, said, that, li...</td>\n",
       "      <td>[prime, minister, saturday, said, like, last, ...</td>\n",
       "      <td>[prime, minister, saturday, said, like, last, ...</td>\n",
       "    </tr>\n",
       "    <tr>\n",
       "      <th>2</th>\n",
       "      <td>5</td>\n",
       "      <td>2021-04-24 08:43:16+00:00</td>\n",
       "      <td>4/24/2021</td>\n",
       "      <td>8:43:16</td>\n",
       "      <td>Covid-19: India is going through very terrible...</td>\n",
       "      <td>en</td>\n",
       "      <td>0.0</td>\n",
       "      <td>0.0</td>\n",
       "      <td>0.0</td>\n",
       "      <td>[presssangharsh, dailynews, news, india, corev...</td>\n",
       "      <td>[]</td>\n",
       "      <td>1.0</td>\n",
       "      <td>covid 19 india is going through very terrible ...</td>\n",
       "      <td>13</td>\n",
       "      <td>8</td>\n",
       "      <td>[covid, 19, india, is, going, through, very, t...</td>\n",
       "      <td>[covid, 19, india, going, terrible, situation,...</td>\n",
       "      <td>[covid, 19, india, going, terrible, situation,...</td>\n",
       "    </tr>\n",
       "    <tr>\n",
       "      <th>3</th>\n",
       "      <td>6</td>\n",
       "      <td>2021-04-24 08:43:15+00:00</td>\n",
       "      <td>4/24/2021</td>\n",
       "      <td>8:43:15</td>\n",
       "      <td>@CPBlr @KamalPantIPS speaks to me on the rules...</td>\n",
       "      <td>en</td>\n",
       "      <td>0.0</td>\n",
       "      <td>0.0</td>\n",
       "      <td>0.0</td>\n",
       "      <td>[covid19]</td>\n",
       "      <td>[]</td>\n",
       "      <td>0.0</td>\n",
       "      <td>speaks to me on the rules that people will hav...</td>\n",
       "      <td>40</td>\n",
       "      <td>8</td>\n",
       "      <td>[speaks, to, me, on, the, rules, that, people,...</td>\n",
       "      <td>[speaks, rules, people, follow, volunteers, be...</td>\n",
       "      <td>[speaks, rule, people, follow, volunteer, beng...</td>\n",
       "    </tr>\n",
       "    <tr>\n",
       "      <th>4</th>\n",
       "      <td>7</td>\n",
       "      <td>2021-04-24 08:43:14+00:00</td>\n",
       "      <td>4/24/2021</td>\n",
       "      <td>8:43:14</td>\n",
       "      <td>@Physio_voice @BiswabhusanHC @ysjagan @Audimul...</td>\n",
       "      <td>en</td>\n",
       "      <td>0.0</td>\n",
       "      <td>0.0</td>\n",
       "      <td>0.0</td>\n",
       "      <td>[]</td>\n",
       "      <td>[]</td>\n",
       "      <td>0.0</td>\n",
       "      <td>voice namaste sir we are the ntruhs physiother...</td>\n",
       "      <td>38</td>\n",
       "      <td>8</td>\n",
       "      <td>[voice, namaste, sir, we, are, the, ntruhs, ph...</td>\n",
       "      <td>[voice, namaste, sir, ntruhs, physiotherapy, s...</td>\n",
       "      <td>[voice, namaste, sir, ntruhs, physiotherapy, s...</td>\n",
       "    </tr>\n",
       "  </tbody>\n",
       "</table>\n",
       "</div>"
      ],
      "text/plain": [
       "   id                created_at       date     time  \\\n",
       "0   1 2021-04-24 08:43:17+00:00  4/24/2021  8:43:17   \n",
       "1   3 2021-04-24 08:43:16+00:00  4/24/2021  8:43:16   \n",
       "2   5 2021-04-24 08:43:16+00:00  4/24/2021  8:43:16   \n",
       "3   6 2021-04-24 08:43:15+00:00  4/24/2021  8:43:15   \n",
       "4   7 2021-04-24 08:43:14+00:00  4/24/2021  8:43:14   \n",
       "\n",
       "                                               tweet language  replies_count  \\\n",
       "0  The latest The Zika Advice Paper!  https://t.c...       en            0.0   \n",
       "1   https://t.co/4rdhSH3IYl  Prime Minister @Nare...       en            0.0   \n",
       "2  Covid-19: India is going through very terrible...       en            0.0   \n",
       "3  @CPBlr @KamalPantIPS speaks to me on the rules...       en            0.0   \n",
       "4  @Physio_voice @BiswabhusanHC @ysjagan @Audimul...       en            0.0   \n",
       "\n",
       "   retweets_count  likes_count  \\\n",
       "0             0.0          0.0   \n",
       "1             0.0          0.0   \n",
       "2             0.0          0.0   \n",
       "3             0.0          0.0   \n",
       "4             0.0          0.0   \n",
       "\n",
       "                                            hashtags cashtags  video  \\\n",
       "0                                     [covid19, amr]       []    0.0   \n",
       "1                                          [covid19]       []    1.0   \n",
       "2  [presssangharsh, dailynews, news, india, corev...       []    1.0   \n",
       "3                                          [covid19]       []    0.0   \n",
       "4                                                 []       []    0.0   \n",
       "\n",
       "                                         clean_tweet  word_count  hour  \\\n",
       "0         the latest the zika advice paper thanks to           8     8   \n",
       "1  prime minister on saturday said that like last...          23     8   \n",
       "2  covid 19 india is going through very terrible ...          13     8   \n",
       "3  speaks to me on the rules that people will hav...          40     8   \n",
       "4  voice namaste sir we are the ntruhs physiother...          38     8   \n",
       "\n",
       "                                    tokenized_tweets  \\\n",
       "0  [the, latest, the, zika, advice, paper, thanks...   \n",
       "1  [prime, minister, on, saturday, said, that, li...   \n",
       "2  [covid, 19, india, is, going, through, very, t...   \n",
       "3  [speaks, to, me, on, the, rules, that, people,...   \n",
       "4  [voice, namaste, sir, we, are, the, ntruhs, ph...   \n",
       "\n",
       "                              tokenized_rm_sw_tweets  \\\n",
       "0              [latest, zika, advice, paper, thanks]   \n",
       "1  [prime, minister, saturday, said, like, last, ...   \n",
       "2  [covid, 19, india, going, terrible, situation,...   \n",
       "3  [speaks, rules, people, follow, volunteers, be...   \n",
       "4  [voice, namaste, sir, ntruhs, physiotherapy, s...   \n",
       "\n",
       "                                                root  \n",
       "0              [latest, zika, advice, paper, thanks]  \n",
       "1  [prime, minister, saturday, said, like, last, ...  \n",
       "2  [covid, 19, india, going, terrible, situation,...  \n",
       "3  [speaks, rule, people, follow, volunteer, beng...  \n",
       "4  [voice, namaste, sir, ntruhs, physiotherapy, s...  "
      ]
     },
     "execution_count": 29,
     "metadata": {},
     "output_type": "execute_result"
    }
   ],
   "source": [
    "df_en_tweets.head()"
   ]
  },
  {
   "cell_type": "code",
   "execution_count": 30,
   "metadata": {},
   "outputs": [],
   "source": [
    "# count the number of occurrences of each word\n",
    "tweet_words = {}\n",
    "for i in range(len(df_en_tweets)):\n",
    "    for w in df_en_tweets[\"root\"][i]:\n",
    "        if w in tweet_words:\n",
    "            tweet_words[w] += 1\n",
    "        else:\n",
    "            tweet_words[w] = 1"
   ]
  },
  {
   "cell_type": "code",
   "execution_count": 31,
   "metadata": {},
   "outputs": [
    {
     "data": {
      "text/plain": [
       "123298"
      ]
     },
     "execution_count": 31,
     "metadata": {},
     "output_type": "execute_result"
    }
   ],
   "source": [
    "len(tweet_words)"
   ]
  },
  {
   "cell_type": "code",
   "execution_count": 32,
   "metadata": {},
   "outputs": [
    {
     "data": {
      "text/html": [
       "<div>\n",
       "<style scoped>\n",
       "    .dataframe tbody tr th:only-of-type {\n",
       "        vertical-align: middle;\n",
       "    }\n",
       "\n",
       "    .dataframe tbody tr th {\n",
       "        vertical-align: top;\n",
       "    }\n",
       "\n",
       "    .dataframe thead th {\n",
       "        text-align: right;\n",
       "    }\n",
       "</style>\n",
       "<table border=\"1\" class=\"dataframe\">\n",
       "  <thead>\n",
       "    <tr style=\"text-align: right;\">\n",
       "      <th></th>\n",
       "      <th>word</th>\n",
       "      <th>count</th>\n",
       "    </tr>\n",
       "  </thead>\n",
       "  <tbody>\n",
       "    <tr>\n",
       "      <th>20</th>\n",
       "      <td>covid</td>\n",
       "      <td>266275</td>\n",
       "    </tr>\n",
       "    <tr>\n",
       "      <th>13</th>\n",
       "      <td>19</td>\n",
       "      <td>263436</td>\n",
       "    </tr>\n",
       "    <tr>\n",
       "      <th>318</th>\n",
       "      <td>vaccine</td>\n",
       "      <td>70663</td>\n",
       "    </tr>\n",
       "    <tr>\n",
       "      <th>57</th>\n",
       "      <td>case</td>\n",
       "      <td>50743</td>\n",
       "    </tr>\n",
       "    <tr>\n",
       "      <th>117</th>\n",
       "      <td>amp</td>\n",
       "      <td>47003</td>\n",
       "    </tr>\n",
       "    <tr>\n",
       "      <th>21</th>\n",
       "      <td>india</td>\n",
       "      <td>41491</td>\n",
       "    </tr>\n",
       "    <tr>\n",
       "      <th>31</th>\n",
       "      <td>people</td>\n",
       "      <td>37642</td>\n",
       "    </tr>\n",
       "    <tr>\n",
       "      <th>281</th>\n",
       "      <td>new</td>\n",
       "      <td>35522</td>\n",
       "    </tr>\n",
       "    <tr>\n",
       "      <th>329</th>\n",
       "      <td>u</td>\n",
       "      <td>29589</td>\n",
       "    </tr>\n",
       "    <tr>\n",
       "      <th>93</th>\n",
       "      <td>pandemic</td>\n",
       "      <td>28105</td>\n",
       "    </tr>\n",
       "    <tr>\n",
       "      <th>710</th>\n",
       "      <td>corona</td>\n",
       "      <td>26372</td>\n",
       "    </tr>\n",
       "    <tr>\n",
       "      <th>428</th>\n",
       "      <td>death</td>\n",
       "      <td>24924</td>\n",
       "    </tr>\n",
       "    <tr>\n",
       "      <th>408</th>\n",
       "      <td>health</td>\n",
       "      <td>24717</td>\n",
       "    </tr>\n",
       "    <tr>\n",
       "      <th>56</th>\n",
       "      <td>covid19</td>\n",
       "      <td>24710</td>\n",
       "    </tr>\n",
       "    <tr>\n",
       "      <th>260</th>\n",
       "      <td>get</td>\n",
       "      <td>24343</td>\n",
       "    </tr>\n",
       "    <tr>\n",
       "      <th>59</th>\n",
       "      <td>day</td>\n",
       "      <td>24059</td>\n",
       "    </tr>\n",
       "    <tr>\n",
       "      <th>240</th>\n",
       "      <td>time</td>\n",
       "      <td>22007</td>\n",
       "    </tr>\n",
       "    <tr>\n",
       "      <th>262</th>\n",
       "      <td>1</td>\n",
       "      <td>21857</td>\n",
       "    </tr>\n",
       "    <tr>\n",
       "      <th>157</th>\n",
       "      <td>please</td>\n",
       "      <td>21374</td>\n",
       "    </tr>\n",
       "    <tr>\n",
       "      <th>36</th>\n",
       "      <td>help</td>\n",
       "      <td>21064</td>\n",
       "    </tr>\n",
       "    <tr>\n",
       "      <th>92</th>\n",
       "      <td>hospital</td>\n",
       "      <td>21000</td>\n",
       "    </tr>\n",
       "    <tr>\n",
       "      <th>537</th>\n",
       "      <td>one</td>\n",
       "      <td>20647</td>\n",
       "    </tr>\n",
       "    <tr>\n",
       "      <th>339</th>\n",
       "      <td>2</td>\n",
       "      <td>19477</td>\n",
       "    </tr>\n",
       "    <tr>\n",
       "      <th>190</th>\n",
       "      <td>vaccination</td>\n",
       "      <td>19456</td>\n",
       "    </tr>\n",
       "    <tr>\n",
       "      <th>86</th>\n",
       "      <td>patient</td>\n",
       "      <td>19338</td>\n",
       "    </tr>\n",
       "    <tr>\n",
       "      <th>95</th>\n",
       "      <td>need</td>\n",
       "      <td>18936</td>\n",
       "    </tr>\n",
       "    <tr>\n",
       "      <th>84</th>\n",
       "      <td>oxygen</td>\n",
       "      <td>18649</td>\n",
       "    </tr>\n",
       "    <tr>\n",
       "      <th>208</th>\n",
       "      <td>state</td>\n",
       "      <td>16742</td>\n",
       "    </tr>\n",
       "    <tr>\n",
       "      <th>11</th>\n",
       "      <td>year</td>\n",
       "      <td>16475</td>\n",
       "    </tr>\n",
       "    <tr>\n",
       "      <th>19</th>\n",
       "      <td>country</td>\n",
       "      <td>16474</td>\n",
       "    </tr>\n",
       "  </tbody>\n",
       "</table>\n",
       "</div>"
      ],
      "text/plain": [
       "            word   count\n",
       "20         covid  266275\n",
       "13            19  263436\n",
       "318      vaccine   70663\n",
       "57          case   50743\n",
       "117          amp   47003\n",
       "21         india   41491\n",
       "31        people   37642\n",
       "281          new   35522\n",
       "329            u   29589\n",
       "93      pandemic   28105\n",
       "710       corona   26372\n",
       "428        death   24924\n",
       "408       health   24717\n",
       "56       covid19   24710\n",
       "260          get   24343\n",
       "59           day   24059\n",
       "240         time   22007\n",
       "262            1   21857\n",
       "157       please   21374\n",
       "36          help   21064\n",
       "92      hospital   21000\n",
       "537          one   20647\n",
       "339            2   19477\n",
       "190  vaccination   19456\n",
       "86       patient   19338\n",
       "95          need   18936\n",
       "84        oxygen   18649\n",
       "208        state   16742\n",
       "11          year   16475\n",
       "19       country   16474"
      ]
     },
     "execution_count": 32,
     "metadata": {},
     "output_type": "execute_result"
    }
   ],
   "source": [
    "# sorting the counts\n",
    "tweet_words_df = pd.DataFrame.from_dict(tweet_words, \"index\").reset_index()\n",
    "tweet_words_df.columns = [\"word\", \"count\"]\n",
    "tweet_words_df.sort_values(\"count\", ascending=False)[:30]"
   ]
  },
  {
   "cell_type": "code",
   "execution_count": 33,
   "metadata": {},
   "outputs": [
    {
     "name": "stderr",
     "output_type": "stream",
     "text": [
      "C:\\Users\\dunga\\AppData\\Local\\Temp\\ipykernel_2812\\3193980282.py:3: UserWarning: set_ticklabels() should only be used with a fixed number of ticks, i.e. after set_ticks() or using a FixedLocator.\n",
      "  plot.set_xticklabels(plot.get_xticklabels(), rotation=45,\n"
     ]
    },
    {
     "data": {
      "text/plain": [
       "<Axes: xlabel='word', ylabel='count'>"
      ]
     },
     "execution_count": 33,
     "metadata": {},
     "output_type": "execute_result"
    },
    {
     "data": {
      "image/png": "[encoded data removed]",
      "text/plain": [
       "<Figure size 640x480 with 1 Axes>"
      ]
     },
     "metadata": {},
     "output_type": "display_data"
    }
   ],
   "source": [
    "# plotting the counts of the most frequent words\n",
    "plot = sns.barplot(tweet_words_df.sort_values(\"count\", ascending=False)[:20], x=\"word\", y=\"count\")\n",
    "plot.set_xticklabels(plot.get_xticklabels(), rotation=45,\n",
    "                        horizontalalignment='right')\n",
    "plot"
   ]
  },
  {
   "cell_type": "markdown",
   "metadata": {},
   "source": [
    "## Sentiment analysis"
   ]
  },
  {
   "cell_type": "markdown",
   "metadata": {},
   "source": [
    "In this section, we perform sentiment analysis on the English tweets. We first used TextBlob to extract the subjectivity of each tweet, then used VADER to infer the polarity of each tweet."
   ]
  },
  {
   "cell_type": "code",
   "execution_count": 34,
   "metadata": {},
   "outputs": [
    {
     "data": {
      "text/plain": [
       "<Axes: xlabel='subjectivity', ylabel='Count'>"
      ]
     },
     "execution_count": 34,
     "metadata": {},
     "output_type": "execute_result"
    },
    {
     "data": {
      "image/png": "[encoded data removed]",
      "text/plain": [
       "<Figure size 640x480 with 1 Axes>"
      ]
     },
     "metadata": {},
     "output_type": "display_data"
    }
   ],
   "source": [
    "# extracting tweet subjectivity and plotting the distribution of the subjectivity score\n",
    "sentiments = df_en_tweets[\"tweet\"].apply(lambda x: TextBlob(x).sentiment)\n",
    "df_en_tweets[\"subjectivity\"] = sentiments.apply(lambda s: s.subjectivity)\n",
    "sns.histplot(df_en_tweets[\"subjectivity\"])"
   ]
  },
  {
   "cell_type": "code",
   "execution_count": 35,
   "metadata": {},
   "outputs": [
    {
     "data": {
      "text/plain": [
       "<Axes: xlabel='polarity', ylabel='Count'>"
      ]
     },
     "execution_count": 35,
     "metadata": {},
     "output_type": "execute_result"
    },
    {
     "data": {
      "image/png": "[encoded data removed]",
      "text/plain": [
       "<Figure size 640x480 with 1 Axes>"
      ]
     },
     "metadata": {},
     "output_type": "display_data"
    }
   ],
   "source": [
    "# extracting polarity score of each tweet and plotting the distribution of the score\n",
    "from vaderSentiment.vaderSentiment import SentimentIntensityAnalyzer\n",
    "vader_analyzer= SentimentIntensityAnalyzer()\n",
    "df_en_tweets[\"polarity\"] = df_en_tweets[\"tweet\"].apply(lambda x: vader_analyzer.polarity_scores(x)[\"compound\"])\n",
    "sns.histplot(df_en_tweets[\"polarity\"])"
   ]
  },
  {
   "cell_type": "code",
   "execution_count": 36,
   "metadata": {},
   "outputs": [
    {
     "data": {
      "text/plain": [
       "<seaborn.axisgrid.FacetGrid at 0x1d9c969ce00>"
      ]
     },
     "execution_count": 36,
     "metadata": {},
     "output_type": "execute_result"
    },
    {
     "data": {
      "image/png": "[encoded data removed]",
      "text/plain": [
       "<Figure size 500x500 with 1 Axes>"
      ]
     },
     "metadata": {},
     "output_type": "display_data"
    }
   ],
   "source": [
    "# dividing the tweets into 3 categories based on their polarity score\n",
    "df_en_tweets[\"polarity_cat\"] = df_en_tweets[\"polarity\"].apply(lambda x: \"pos\" if x > 0 else \"neu\" if x == 0 else \"neg\")\n",
    "# plotting the distribution of the polarity categories\n",
    "sns.displot(df_en_tweets[\"polarity_cat\"])"
   ]
  },
  {
   "cell_type": "markdown",
   "metadata": {},
   "source": [
    "## Linguistic Inquiry and Word Count (LIWC)"
   ]
  },
  {
   "cell_type": "code",
   "execution_count": 37,
   "metadata": {},
   "outputs": [
    {
     "data": {
      "text/html": [
       "<div>\n",
       "<style scoped>\n",
       "    .dataframe tbody tr th:only-of-type {\n",
       "        vertical-align: middle;\n",
       "    }\n",
       "\n",
       "    .dataframe tbody tr th {\n",
       "        vertical-align: top;\n",
       "    }\n",
       "\n",
       "    .dataframe thead th {\n",
       "        text-align: right;\n",
       "    }\n",
       "</style>\n",
       "<table border=\"1\" class=\"dataframe\">\n",
       "  <thead>\n",
       "    <tr style=\"text-align: right;\">\n",
       "      <th></th>\n",
       "      <th>relativ</th>\n",
       "      <th>time</th>\n",
       "      <th>social</th>\n",
       "      <th>work</th>\n",
       "      <th>verbs</th>\n",
       "      <th>present</th>\n",
       "      <th>affect</th>\n",
       "      <th>posemo</th>\n",
       "      <th>funct</th>\n",
       "      <th>pronoun</th>\n",
       "      <th>...</th>\n",
       "      <th>space</th>\n",
       "      <th>achiev</th>\n",
       "      <th>leisure</th>\n",
       "      <th>home</th>\n",
       "      <th>money</th>\n",
       "      <th>relig</th>\n",
       "      <th>death</th>\n",
       "      <th>assent</th>\n",
       "      <th>nonflu</th>\n",
       "      <th>filler</th>\n",
       "    </tr>\n",
       "  </thead>\n",
       "  <tbody>\n",
       "    <tr>\n",
       "      <th>0</th>\n",
       "      <td>1</td>\n",
       "      <td>1</td>\n",
       "      <td>1</td>\n",
       "      <td>1</td>\n",
       "      <td>1</td>\n",
       "      <td>1</td>\n",
       "      <td>1</td>\n",
       "      <td>1</td>\n",
       "      <td>0</td>\n",
       "      <td>0</td>\n",
       "      <td>...</td>\n",
       "      <td>0</td>\n",
       "      <td>0</td>\n",
       "      <td>0</td>\n",
       "      <td>0</td>\n",
       "      <td>0</td>\n",
       "      <td>0</td>\n",
       "      <td>0</td>\n",
       "      <td>0</td>\n",
       "      <td>0</td>\n",
       "      <td>0</td>\n",
       "    </tr>\n",
       "    <tr>\n",
       "      <th>1</th>\n",
       "      <td>4</td>\n",
       "      <td>4</td>\n",
       "      <td>1</td>\n",
       "      <td>1</td>\n",
       "      <td>1</td>\n",
       "      <td>0</td>\n",
       "      <td>2</td>\n",
       "      <td>2</td>\n",
       "      <td>0</td>\n",
       "      <td>0</td>\n",
       "      <td>...</td>\n",
       "      <td>1</td>\n",
       "      <td>1</td>\n",
       "      <td>0</td>\n",
       "      <td>0</td>\n",
       "      <td>0</td>\n",
       "      <td>1</td>\n",
       "      <td>0</td>\n",
       "      <td>0</td>\n",
       "      <td>0</td>\n",
       "      <td>1</td>\n",
       "    </tr>\n",
       "    <tr>\n",
       "      <th>2</th>\n",
       "      <td>1</td>\n",
       "      <td>0</td>\n",
       "      <td>1</td>\n",
       "      <td>0</td>\n",
       "      <td>0</td>\n",
       "      <td>0</td>\n",
       "      <td>1</td>\n",
       "      <td>0</td>\n",
       "      <td>0</td>\n",
       "      <td>0</td>\n",
       "      <td>...</td>\n",
       "      <td>0</td>\n",
       "      <td>0</td>\n",
       "      <td>0</td>\n",
       "      <td>0</td>\n",
       "      <td>0</td>\n",
       "      <td>0</td>\n",
       "      <td>0</td>\n",
       "      <td>0</td>\n",
       "      <td>0</td>\n",
       "      <td>0</td>\n",
       "    </tr>\n",
       "    <tr>\n",
       "      <th>3</th>\n",
       "      <td>6</td>\n",
       "      <td>1</td>\n",
       "      <td>3</td>\n",
       "      <td>2</td>\n",
       "      <td>1</td>\n",
       "      <td>1</td>\n",
       "      <td>1</td>\n",
       "      <td>1</td>\n",
       "      <td>0</td>\n",
       "      <td>0</td>\n",
       "      <td>...</td>\n",
       "      <td>1</td>\n",
       "      <td>0</td>\n",
       "      <td>1</td>\n",
       "      <td>1</td>\n",
       "      <td>0</td>\n",
       "      <td>0</td>\n",
       "      <td>0</td>\n",
       "      <td>0</td>\n",
       "      <td>0</td>\n",
       "      <td>0</td>\n",
       "    </tr>\n",
       "    <tr>\n",
       "      <th>4</th>\n",
       "      <td>4</td>\n",
       "      <td>3</td>\n",
       "      <td>2</td>\n",
       "      <td>2</td>\n",
       "      <td>1</td>\n",
       "      <td>0</td>\n",
       "      <td>0</td>\n",
       "      <td>0</td>\n",
       "      <td>0</td>\n",
       "      <td>0</td>\n",
       "      <td>...</td>\n",
       "      <td>0</td>\n",
       "      <td>0</td>\n",
       "      <td>0</td>\n",
       "      <td>0</td>\n",
       "      <td>0</td>\n",
       "      <td>0</td>\n",
       "      <td>0</td>\n",
       "      <td>0</td>\n",
       "      <td>0</td>\n",
       "      <td>0</td>\n",
       "    </tr>\n",
       "  </tbody>\n",
       "</table>\n",
       "<p>5 rows × 64 columns</p>\n",
       "</div>"
      ],
      "text/plain": [
       "   relativ  time  social  work  verbs  present  affect  posemo  funct  \\\n",
       "0        1     1       1     1      1        1       1       1      0   \n",
       "1        4     4       1     1      1        0       2       2      0   \n",
       "2        1     0       1     0      0        0       1       0      0   \n",
       "3        6     1       3     2      1        1       1       1      0   \n",
       "4        4     3       2     2      1        0       0       0      0   \n",
       "\n",
       "   pronoun  ...  space  achiev  leisure  home  money  relig  death  assent  \\\n",
       "0        0  ...      0       0        0     0      0      0      0       0   \n",
       "1        0  ...      1       1        0     0      0      1      0       0   \n",
       "2        0  ...      0       0        0     0      0      0      0       0   \n",
       "3        0  ...      1       0        1     1      0      0      0       0   \n",
       "4        0  ...      0       0        0     0      0      0      0       0   \n",
       "\n",
       "   nonflu  filler  \n",
       "0       0       0  \n",
       "1       0       1  \n",
       "2       0       0  \n",
       "3       0       0  \n",
       "4       0       0  \n",
       "\n",
       "[5 rows x 64 columns]"
      ]
     },
     "execution_count": 37,
     "metadata": {},
     "output_type": "execute_result"
    }
   ],
   "source": [
    "# loading parser and category names\n",
    "parse, category_names = liwc.load_token_parser('LIWC.dic')\n",
    "# parsing each token and recording its category\n",
    "liwc_df = df_en_tweets[\"root\"].apply(lambda tokens: dict(Counter(category for token in tokens for category in parse(token))))\n",
    "# counting the number of occurrences of each category\n",
    "def fun(counts):\n",
    "    for cat in category_names:\n",
    "        if cat not in counts:\n",
    "            counts[cat] = 0\n",
    "    return counts\n",
    "liwc_df = liwc_df.apply(fun)\n",
    "liwc_df = pd.DataFrame(list(liwc_df))\n",
    "liwc_df.head()"
   ]
  },
  {
   "cell_type": "code",
   "execution_count": 40,
   "metadata": {},
   "outputs": [
    {
     "data": {
      "text/plain": [
       "relativ    873577\n",
       "cogmech    642508\n",
       "affect     465168\n",
       "time       433685\n",
       "social     396598\n",
       "funct      382979\n",
       "verbs      371300\n",
       "work       366957\n",
       "posemo     281954\n",
       "bio        245177\n",
       "space      236220\n",
       "present    227639\n",
       "achiev     208198\n",
       "negemo     189668\n",
       "health     183750\n",
       "insight    148239\n",
       "cause      124769\n",
       "quant      113054\n",
       "percept    110763\n",
       "inhib      101530\n",
       "dtype: int64"
      ]
     },
     "execution_count": 40,
     "metadata": {},
     "output_type": "execute_result"
    }
   ],
   "source": [
    "# sorting the counts to obtain 20 most common word categories \n",
    "liwc_df.sum().sort_values(ascending=False)[:20]"
   ]
  },
  {
   "cell_type": "markdown",
   "metadata": {},
   "source": [
    "## Statistical analysis \n",
    "\n",
    "In this section, we'll explore the relationship between the semantic group and popularity (likes count, replies count, retweets count) of a tweet. In particular, we'll conduct one-way ANOVA tests for any difference in the average likes count, replies count, and comments count between the three groups positive tweets, neutral tweets, and negative tweets. If a difference is detected, we'll conduct a Tukey's HSD test to idenitfy the pairs whose means are different from each other. "
   ]
  },
  {
   "cell_type": "code",
   "execution_count": 39,
   "metadata": {},
   "outputs": [],
   "source": [
    "from scipy.stats import f_oneway, tukey_hsd"
   ]
  },
  {
   "cell_type": "code",
   "execution_count": 50,
   "metadata": {},
   "outputs": [
    {
     "data": {
      "text/html": [
       "<div>\n",
       "<style scoped>\n",
       "    .dataframe tbody tr th:only-of-type {\n",
       "        vertical-align: middle;\n",
       "    }\n",
       "\n",
       "    .dataframe tbody tr th {\n",
       "        vertical-align: top;\n",
       "    }\n",
       "\n",
       "    .dataframe thead th {\n",
       "        text-align: right;\n",
       "    }\n",
       "</style>\n",
       "<table border=\"1\" class=\"dataframe\">\n",
       "  <thead>\n",
       "    <tr style=\"text-align: right;\">\n",
       "      <th></th>\n",
       "      <th>likes_count</th>\n",
       "      <th>replies_count</th>\n",
       "      <th>retweets_count</th>\n",
       "    </tr>\n",
       "    <tr>\n",
       "      <th>polarity_cat</th>\n",
       "      <th></th>\n",
       "      <th></th>\n",
       "      <th></th>\n",
       "    </tr>\n",
       "  </thead>\n",
       "  <tbody>\n",
       "    <tr>\n",
       "      <th>neg</th>\n",
       "      <td>16.356879</td>\n",
       "      <td>1.211664</td>\n",
       "      <td>4.846210</td>\n",
       "    </tr>\n",
       "    <tr>\n",
       "      <th>neu</th>\n",
       "      <td>10.886316</td>\n",
       "      <td>1.009376</td>\n",
       "      <td>3.169413</td>\n",
       "    </tr>\n",
       "    <tr>\n",
       "      <th>pos</th>\n",
       "      <td>13.821792</td>\n",
       "      <td>1.065628</td>\n",
       "      <td>4.129683</td>\n",
       "    </tr>\n",
       "  </tbody>\n",
       "</table>\n",
       "</div>"
      ],
      "text/plain": [
       "              likes_count  replies_count  retweets_count\n",
       "polarity_cat                                            \n",
       "neg             16.356879       1.211664        4.846210\n",
       "neu             10.886316       1.009376        3.169413\n",
       "pos             13.821792       1.065628        4.129683"
      ]
     },
     "execution_count": 50,
     "metadata": {},
     "output_type": "execute_result"
    }
   ],
   "source": [
    "# calculating the means of likes_count, replies_count, and retweets_count by polarity group\n",
    "df_en_tweets[[\"likes_count\", \"replies_count\", \"retweets_count\", \"polarity_cat\"]].groupby(\"polarity_cat\").mean()"
   ]
  },
  {
   "cell_type": "code",
   "execution_count": 43,
   "metadata": {},
   "outputs": [],
   "source": [
    "# divide the df_en_tweets into 3 smaller dataframes based on the polarity categories\n",
    "pos = df_en_tweets[df_en_tweets[\"polarity_cat\"] == \"pos\"]\n",
    "neu = df_en_tweets[df_en_tweets[\"polarity_cat\"] == \"neu\"]\n",
    "neg = df_en_tweets[df_en_tweets[\"polarity_cat\"] == \"neg\"]"
   ]
  },
  {
   "cell_type": "code",
   "execution_count": 44,
   "metadata": {},
   "outputs": [
    {
     "data": {
      "text/plain": [
       "F_onewayResult(statistic=5.165359622513509, pvalue=0.0057113784083803925)"
      ]
     },
     "execution_count": 44,
     "metadata": {},
     "output_type": "execute_result"
    }
   ],
   "source": [
    "# ANOVA for likes count\n",
    "f_oneway(pos[\"likes_count\"], neu[\"likes_count\"], neg[\"likes_count\"])"
   ]
  },
  {
   "cell_type": "code",
   "execution_count": 48,
   "metadata": {},
   "outputs": [
    {
     "name": "stdout",
     "output_type": "stream",
     "text": [
      "Tukey's HSD Pairwise Group Comparisons (95.0% Confidence Interval)\n",
      "Comparison  Statistic  p-value  Lower CI  Upper CI\n",
      " (0 - 1)      2.935     0.161    -0.831     6.702\n",
      " (0 - 2)     -2.535     0.204    -6.025     0.955\n",
      " (1 - 0)     -2.935     0.161    -6.702     0.831\n",
      " (1 - 2)     -5.471     0.004    -9.462    -1.479\n",
      " (2 - 0)      2.535     0.204    -0.955     6.025\n",
      " (2 - 1)      5.471     0.004     1.479     9.462\n",
      "\n"
     ]
    }
   ],
   "source": [
    "# Difference detected, conducting Tukey's HSD\n",
    "print(tukey_hsd(pos[\"likes_count\"], neu[\"likes_count\"], neg[\"likes_count\"]))"
   ]
  },
  {
   "cell_type": "code",
   "execution_count": 45,
   "metadata": {},
   "outputs": [
    {
     "data": {
      "text/plain": [
       "F_onewayResult(statistic=1.1665389279848248, pvalue=0.3114440329857995)"
      ]
     },
     "execution_count": 45,
     "metadata": {},
     "output_type": "execute_result"
    }
   ],
   "source": [
    "# ANOVA for replies count\n",
    "f_oneway(pos[\"replies_count\"], neu[\"replies_count\"], neg[\"replies_count\"])"
   ]
  },
  {
   "cell_type": "code",
   "execution_count": 46,
   "metadata": {},
   "outputs": [
    {
     "data": {
      "text/plain": [
       "F_onewayResult(statistic=16.396916020778075, pvalue=7.571695972042705e-08)"
      ]
     },
     "execution_count": 46,
     "metadata": {},
     "output_type": "execute_result"
    }
   ],
   "source": [
    "# ANOVA for retweets count\n",
    "f_oneway(pos[\"retweets_count\"], neu[\"retweets_count\"], neg[\"retweets_count\"])"
   ]
  },
  {
   "cell_type": "code",
   "execution_count": 49,
   "metadata": {},
   "outputs": [
    {
     "name": "stdout",
     "output_type": "stream",
     "text": [
      "Tukey's HSD Pairwise Group Comparisons (95.0% Confidence Interval)\n",
      "Comparison  Statistic  p-value  Lower CI  Upper CI\n",
      " (0 - 1)      0.960     0.001     0.313     1.608\n",
      " (0 - 2)     -0.717     0.014    -1.317    -0.116\n",
      " (1 - 0)     -0.960     0.001    -1.608    -0.313\n",
      " (1 - 2)     -1.677     0.000    -2.363    -0.990\n",
      " (2 - 0)      0.717     0.014     0.116     1.317\n",
      " (2 - 1)      1.677     0.000     0.990     2.363\n",
      "\n"
     ]
    }
   ],
   "source": [
    "# Difference detected, conducting Tukey's HSD\n",
    "print(tukey_hsd(pos[\"retweets_count\"], neu[\"retweets_count\"], neg[\"retweets_count\"]))"
   ]
  },
  {
   "cell_type": "code",
   "execution_count": null,
   "metadata": {},
   "outputs": [],
   "source": []
  }
 ],
 "metadata": {
  "kernelspec": {
   "display_name": "venv",
   "language": "python",
   "name": "python3"
  },
  "language_info": {
   "codemirror_mode": {
    "name": "ipython",
    "version": 3
   },
   "file_extension": ".py",
   "mimetype": "text/x-python",
   "name": "python",
   "nbconvert_exporter": "python",
   "pygments_lexer": "ipython3",
   "version": "3.12.0"
  }
 },
 "nbformat": 4,
 "nbformat_minor": 2
}
